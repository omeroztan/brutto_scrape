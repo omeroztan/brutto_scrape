{
 "cells": [
  {
   "cell_type": "code",
   "execution_count": 2,
   "metadata": {},
   "outputs": [],
   "source": [
    "import requests\n",
    "from bs4 import BeautifulSoup as bs\n",
    "import pandas as pd"
   ]
  },
  {
   "cell_type": "code",
   "execution_count": 3,
   "metadata": {},
   "outputs": [],
   "source": [
    "def collecting_info(brutto_lohn_jahr: str=\"30000\", abrechnungs_jahr: str=\"2024\", steuerklasse: str=\"1\"):\n",
    "    url = 'https://www.brutto-netto-rechner.info/index.php'\n",
    "    headers = {\n",
    "        'accept': 'text/html,application/xhtml+xml,application/xml;q=0.9,image/avif,image/webp,image/apng,*/*;q=0.8',\n",
    "        'accept-language': 'en-US,en;q=0.8',\n",
    "        'cache-control': 'max-age=0',\n",
    "        'content-type': 'application/x-www-form-urlencoded',\n",
    "        'origin': 'https://www.brutto-netto-rechner.info',\n",
    "        'referer': 'https://www.brutto-netto-rechner.info/',\n",
    "        'sec-ch-ua': '\"Chromium\";v=\"122\", \"Not(A:Brand\";v=\"24\", \"Brave\";v=\"122\"',\n",
    "        'sec-ch-ua-mobile': '?0',\n",
    "        'sec-ch-ua-platform': '\"Windows\"',\n",
    "        'sec-fetch-dest': 'document',\n",
    "        'sec-fetch-mode': 'navigate',\n",
    "        'sec-fetch-site': 'same-origin',\n",
    "        'sec-fetch-user': '?1',\n",
    "        'sec-gpc': '1',\n",
    "        'upgrade-insecure-requests': '1',\n",
    "        'user-agent': 'Mozilla/5.0 (Windows NT 10.0; Win64; x64) AppleWebKit/537.36 (KHTML, like Gecko) Chrome/122.0.0.0 Safari/537.36'\n",
    "    }\n",
    "    data = {\n",
    "        'f_start': '1',\n",
    "        'ok': '1',\n",
    "        'f_bruttolohn': f'{brutto_lohn_jahr}',\n",
    "        'f_abrechnungszeitraum': 'jahr',\n",
    "        'f_geld_werter_vorteil': '0',\n",
    "        'f_abrechnungsjahr': f'{abrechnungs_jahr}',\n",
    "        'f_steuerfreibetrag': '',\n",
    "        'f_steuerklasse': f'{steuerklasse}',\n",
    "        'f_kirche': 'nein',\n",
    "        'f_bundesland': 'baden-wuerttemberg',\n",
    "        'f_alter': '35',\n",
    "        'f_kinder': 'nein',\n",
    "        'f_kinderfreibetrag': '0',\n",
    "        'f_kinder_anz': '0',\n",
    "        'f_krankenversicherung': 'pflichtversichert',\n",
    "        'f_private_kv': '',\n",
    "        'f_arbeitgeberzuschuss_pkv': 'ja',\n",
    "        'f_KVZ': '1.7',\n",
    "        'f_rentenversicherung': 'pflichtversichert',\n",
    "        'f_arbeitslosenversicherung': 'pflichtversichert'\n",
    "    }\n",
    "\n",
    "    response = requests.post(url, headers=headers, data=data)\n",
    "    return response"
   ]
  },
  {
   "cell_type": "code",
   "execution_count": 4,
   "metadata": {},
   "outputs": [],
   "source": [
    "response = collecting_info(brutto_lohn_jahr=\"30000\", abrechnungs_jahr=\"2024\", steuerklasse=\"1\")"
   ]
  },
  {
   "cell_type": "code",
   "execution_count": 5,
   "metadata": {},
   "outputs": [],
   "source": [
    "soup = bs(response.content, 'lxml')\n",
    "\n",
    "table = soup.find('table', {'class': 'rechner'})"
   ]
  },
  {
   "cell_type": "code",
   "execution_count": 18,
   "metadata": {},
   "outputs": [
    {
     "data": {
      "text/plain": [
       "[['Ergebnis', 'Monat', 'Jahr'],\n",
       " [],\n",
       " ['Brutto:', '2.500,00\\xa0€', '30.000,00\\xa0€'],\n",
       " ['Geldwerter\\xa0Vorteil:', '0,00\\xa0€', '0,00\\xa0€'],\n",
       " [],\n",
       " ['Steuern'],\n",
       " ['Solidaritäts-\\xa0zuschlag:', '0,00\\xa0€', '0,00\\xa0€'],\n",
       " ['Kirchensteuer:', '0,00\\xa0€', '0,00\\xa0€'],\n",
       " ['Lohnsteuer:', '208,41\\xa0€', '2.500,92\\xa0€'],\n",
       " [],\n",
       " ['Steuern:', '208,41\\xa0€', '2.500,92\\xa0€'],\n",
       " [],\n",
       " ['Sozialabgaben'],\n",
       " ['Renten-\\xa0versicherung:', '232,50\\xa0€', '2.790,00\\xa0€'],\n",
       " ['Bessere Absicherung und Steuerersparnis mit der Riester-Rente! Bis zu 2.100,- €\\n2.100,- € sind steuerlich abzugsfähig: Infos anfordern!Infos anfordern!'],\n",
       " ['Arbeitslosen-\\xa0versicherung:', '32,50\\xa0€', '390,00\\xa0€'],\n",
       " ['Kranken-\\xa0versicherung:', '203,75\\xa0€', '2.445,00\\xa0€'],\n",
       " ['Pflege-\\xa0versicherung:', '57,50 €', '690,00 €'],\n",
       " [],\n",
       " ['Sozialabgaben:', '526,25\\xa0€', '6.315,00\\xa0€'],\n",
       " [],\n",
       " ['Netto:', '1.765,34\\xa0€', '21.184,08\\xa0€'],\n",
       " [],\n",
       " [],\n",
       " [],\n",
       " []]"
      ]
     },
     "execution_count": 18,
     "metadata": {},
     "output_type": "execute_result"
    }
   ],
   "source": [
    "table_data = []\n",
    "for row in table.find_all(\"tr\"):\n",
    "    data = row.find_all(\"td\")\n",
    "    small_list = []\n",
    "    for info in data:\n",
    "        if info.text.strip():\n",
    "            small_list.append(info.text.strip())\n",
    "    table_data.append(small_list)\n",
    "table_data"
   ]
  },
  {
   "cell_type": "code",
   "execution_count": 19,
   "metadata": {},
   "outputs": [
    {
     "data": {
      "text/plain": [
       "[['Ergebnis', 'Monat', 'Jahr'],\n",
       " ['Brutto:', '2.500,00 €', '30.000,00 €'],\n",
       " ['Geldwerter Vorteil:', '0,00 €', '0,00 €'],\n",
       " ['Steuern'],\n",
       " ['Solidaritäts- zuschlag:', '0,00 €', '0,00 €'],\n",
       " ['Kirchensteuer:', '0,00 €', '0,00 €'],\n",
       " ['Lohnsteuer:', '208,41 €', '2.500,92 €'],\n",
       " ['Steuern:', '208,41 €', '2.500,92 €'],\n",
       " ['Sozialabgaben'],\n",
       " ['Renten- versicherung:', '232,50 €', '2.790,00 €'],\n",
       " ['Bessere Absicherung und Steuerersparnis mit der Riester-Rente! Bis zu 2.100,- €\\n2.100,- € sind steuerlich abzugsfähig: Infos anfordern!Infos anfordern!'],\n",
       " ['Arbeitslosen- versicherung:', '32,50 €', '390,00 €'],\n",
       " ['Kranken- versicherung:', '203,75 €', '2.445,00 €'],\n",
       " ['Pflege- versicherung:', '57,50 €', '690,00 €'],\n",
       " ['Sozialabgaben:', '526,25 €', '6.315,00 €'],\n",
       " ['Netto:', '1.765,34 €', '21.184,08 €']]"
      ]
     },
     "execution_count": 19,
     "metadata": {},
     "output_type": "execute_result"
    }
   ],
   "source": [
    "clean_table_data = []\n",
    "\n",
    "for row in table_data:\n",
    "    clean_row = []\n",
    "    for cell in row:\n",
    "        # Replace non-breaking spaces with regular spaces and strip leading/trailing whitespace\n",
    "        clean_cell = cell.replace('\\xa0', ' ').strip()\n",
    "        clean_row.append(clean_cell)\n",
    "    # Filter out empty strings if the entire row isn't empty\n",
    "    if any(clean_row):\n",
    "        clean_row = [cell for cell in clean_row if cell != '']\n",
    "        clean_table_data.append(clean_row)\n",
    "clean_table_data"
   ]
  },
  {
   "cell_type": "code",
   "execution_count": 20,
   "metadata": {},
   "outputs": [
    {
     "data": {
      "text/plain": [
       "[['Ergebnis', 'Monat', 'Jahr'],\n",
       " ['Brutto:', '2.500,00 €', '30.000,00 €'],\n",
       " ['Geldwerter Vorteil:', '0,00 €', '0,00 €'],\n",
       " ['Solidaritäts- zuschlag:', '0,00 €', '0,00 €'],\n",
       " ['Kirchensteuer:', '0,00 €', '0,00 €'],\n",
       " ['Lohnsteuer:', '208,41 €', '2.500,92 €'],\n",
       " ['Steuern:', '208,41 €', '2.500,92 €'],\n",
       " ['Renten- versicherung:', '232,50 €', '2.790,00 €'],\n",
       " ['Arbeitslosen- versicherung:', '32,50 €', '390,00 €'],\n",
       " ['Kranken- versicherung:', '203,75 €', '2.445,00 €'],\n",
       " ['Pflege- versicherung:', '57,50 €', '690,00 €'],\n",
       " ['Sozialabgaben:', '526,25 €', '6.315,00 €'],\n",
       " ['Netto:', '1.765,34 €', '21.184,08 €']]"
      ]
     },
     "execution_count": 20,
     "metadata": {},
     "output_type": "execute_result"
    }
   ],
   "source": [
    "for i, row in enumerate(clean_table_data):\n",
    "    if len(row) != 3:\n",
    "        del clean_table_data[i]\n",
    "clean_table_data"
   ]
  },
  {
   "cell_type": "code",
   "execution_count": 21,
   "metadata": {},
   "outputs": [
    {
     "data": {
      "text/html": [
       "<div>\n",
       "<style scoped>\n",
       "    .dataframe tbody tr th:only-of-type {\n",
       "        vertical-align: middle;\n",
       "    }\n",
       "\n",
       "    .dataframe tbody tr th {\n",
       "        vertical-align: top;\n",
       "    }\n",
       "\n",
       "    .dataframe thead th {\n",
       "        text-align: right;\n",
       "    }\n",
       "</style>\n",
       "<table border=\"1\" class=\"dataframe\">\n",
       "  <thead>\n",
       "    <tr style=\"text-align: right;\">\n",
       "      <th></th>\n",
       "      <th>0</th>\n",
       "      <th>1</th>\n",
       "      <th>2</th>\n",
       "    </tr>\n",
       "  </thead>\n",
       "  <tbody>\n",
       "    <tr>\n",
       "      <th>0</th>\n",
       "      <td>Ergebnis</td>\n",
       "      <td>Monat</td>\n",
       "      <td>Jahr</td>\n",
       "    </tr>\n",
       "    <tr>\n",
       "      <th>1</th>\n",
       "      <td>Brutto:</td>\n",
       "      <td>2.500,00 €</td>\n",
       "      <td>30.000,00 €</td>\n",
       "    </tr>\n",
       "    <tr>\n",
       "      <th>2</th>\n",
       "      <td>Geldwerter Vorteil:</td>\n",
       "      <td>0,00 €</td>\n",
       "      <td>0,00 €</td>\n",
       "    </tr>\n",
       "    <tr>\n",
       "      <th>3</th>\n",
       "      <td>Solidaritäts- zuschlag:</td>\n",
       "      <td>0,00 €</td>\n",
       "      <td>0,00 €</td>\n",
       "    </tr>\n",
       "    <tr>\n",
       "      <th>4</th>\n",
       "      <td>Kirchensteuer:</td>\n",
       "      <td>0,00 €</td>\n",
       "      <td>0,00 €</td>\n",
       "    </tr>\n",
       "    <tr>\n",
       "      <th>5</th>\n",
       "      <td>Lohnsteuer:</td>\n",
       "      <td>208,41 €</td>\n",
       "      <td>2.500,92 €</td>\n",
       "    </tr>\n",
       "    <tr>\n",
       "      <th>6</th>\n",
       "      <td>Steuern:</td>\n",
       "      <td>208,41 €</td>\n",
       "      <td>2.500,92 €</td>\n",
       "    </tr>\n",
       "    <tr>\n",
       "      <th>7</th>\n",
       "      <td>Renten- versicherung:</td>\n",
       "      <td>232,50 €</td>\n",
       "      <td>2.790,00 €</td>\n",
       "    </tr>\n",
       "    <tr>\n",
       "      <th>8</th>\n",
       "      <td>Arbeitslosen- versicherung:</td>\n",
       "      <td>32,50 €</td>\n",
       "      <td>390,00 €</td>\n",
       "    </tr>\n",
       "    <tr>\n",
       "      <th>9</th>\n",
       "      <td>Kranken- versicherung:</td>\n",
       "      <td>203,75 €</td>\n",
       "      <td>2.445,00 €</td>\n",
       "    </tr>\n",
       "    <tr>\n",
       "      <th>10</th>\n",
       "      <td>Pflege- versicherung:</td>\n",
       "      <td>57,50 €</td>\n",
       "      <td>690,00 €</td>\n",
       "    </tr>\n",
       "    <tr>\n",
       "      <th>11</th>\n",
       "      <td>Sozialabgaben:</td>\n",
       "      <td>526,25 €</td>\n",
       "      <td>6.315,00 €</td>\n",
       "    </tr>\n",
       "    <tr>\n",
       "      <th>12</th>\n",
       "      <td>Netto:</td>\n",
       "      <td>1.765,34 €</td>\n",
       "      <td>21.184,08 €</td>\n",
       "    </tr>\n",
       "  </tbody>\n",
       "</table>\n",
       "</div>"
      ],
      "text/plain": [
       "                              0           1            2\n",
       "0                      Ergebnis       Monat         Jahr\n",
       "1                       Brutto:  2.500,00 €  30.000,00 €\n",
       "2           Geldwerter Vorteil:      0,00 €       0,00 €\n",
       "3       Solidaritäts- zuschlag:      0,00 €       0,00 €\n",
       "4                Kirchensteuer:      0,00 €       0,00 €\n",
       "5                   Lohnsteuer:    208,41 €   2.500,92 €\n",
       "6                      Steuern:    208,41 €   2.500,92 €\n",
       "7         Renten- versicherung:    232,50 €   2.790,00 €\n",
       "8   Arbeitslosen- versicherung:     32,50 €     390,00 €\n",
       "9        Kranken- versicherung:    203,75 €   2.445,00 €\n",
       "10        Pflege- versicherung:     57,50 €     690,00 €\n",
       "11               Sozialabgaben:    526,25 €   6.315,00 €\n",
       "12                       Netto:  1.765,34 €  21.184,08 €"
      ]
     },
     "execution_count": 21,
     "metadata": {},
     "output_type": "execute_result"
    }
   ],
   "source": [
    "df = pd.DataFrame(clean_table_data)\n",
    "df"
   ]
  },
  {
   "cell_type": "code",
   "execution_count": 27,
   "metadata": {},
   "outputs": [],
   "source": [
    "df  = df.transpose()"
   ]
  },
  {
   "cell_type": "code",
   "execution_count": 28,
   "metadata": {},
   "outputs": [
    {
     "data": {
      "text/html": [
       "<div>\n",
       "<style scoped>\n",
       "    .dataframe tbody tr th:only-of-type {\n",
       "        vertical-align: middle;\n",
       "    }\n",
       "\n",
       "    .dataframe tbody tr th {\n",
       "        vertical-align: top;\n",
       "    }\n",
       "\n",
       "    .dataframe thead th {\n",
       "        text-align: right;\n",
       "    }\n",
       "</style>\n",
       "<table border=\"1\" class=\"dataframe\">\n",
       "  <thead>\n",
       "    <tr style=\"text-align: right;\">\n",
       "      <th></th>\n",
       "      <th>Ergebnis</th>\n",
       "      <th>Brutto:</th>\n",
       "      <th>Geldwerter Vorteil:</th>\n",
       "      <th>Solidaritäts- zuschlag:</th>\n",
       "      <th>Kirchensteuer:</th>\n",
       "      <th>Lohnsteuer:</th>\n",
       "      <th>Steuern:</th>\n",
       "      <th>Renten- versicherung:</th>\n",
       "      <th>Arbeitslosen- versicherung:</th>\n",
       "      <th>Kranken- versicherung:</th>\n",
       "      <th>Pflege- versicherung:</th>\n",
       "      <th>Sozialabgaben:</th>\n",
       "      <th>Netto:</th>\n",
       "    </tr>\n",
       "  </thead>\n",
       "  <tbody>\n",
       "    <tr>\n",
       "      <th>1</th>\n",
       "      <td>Monat</td>\n",
       "      <td>2.500,00 €</td>\n",
       "      <td>0,00 €</td>\n",
       "      <td>0,00 €</td>\n",
       "      <td>0,00 €</td>\n",
       "      <td>208,41 €</td>\n",
       "      <td>208,41 €</td>\n",
       "      <td>232,50 €</td>\n",
       "      <td>32,50 €</td>\n",
       "      <td>203,75 €</td>\n",
       "      <td>57,50 €</td>\n",
       "      <td>526,25 €</td>\n",
       "      <td>1.765,34 €</td>\n",
       "    </tr>\n",
       "    <tr>\n",
       "      <th>2</th>\n",
       "      <td>Jahr</td>\n",
       "      <td>30.000,00 €</td>\n",
       "      <td>0,00 €</td>\n",
       "      <td>0,00 €</td>\n",
       "      <td>0,00 €</td>\n",
       "      <td>2.500,92 €</td>\n",
       "      <td>2.500,92 €</td>\n",
       "      <td>2.790,00 €</td>\n",
       "      <td>390,00 €</td>\n",
       "      <td>2.445,00 €</td>\n",
       "      <td>690,00 €</td>\n",
       "      <td>6.315,00 €</td>\n",
       "      <td>21.184,08 €</td>\n",
       "    </tr>\n",
       "  </tbody>\n",
       "</table>\n",
       "</div>"
      ],
      "text/plain": [
       "0 Ergebnis      Brutto: Geldwerter Vorteil: Solidaritäts- zuschlag:  \\\n",
       "1    Monat   2.500,00 €              0,00 €                  0,00 €   \n",
       "2     Jahr  30.000,00 €              0,00 €                  0,00 €   \n",
       "\n",
       "0 Kirchensteuer: Lohnsteuer:    Steuern: Renten- versicherung:  \\\n",
       "1         0,00 €    208,41 €    208,41 €              232,50 €   \n",
       "2         0,00 €  2.500,92 €  2.500,92 €            2.790,00 €   \n",
       "\n",
       "0 Arbeitslosen- versicherung: Kranken- versicherung: Pflege- versicherung:  \\\n",
       "1                     32,50 €               203,75 €               57,50 €   \n",
       "2                    390,00 €             2.445,00 €              690,00 €   \n",
       "\n",
       "0 Sozialabgaben:       Netto:  \n",
       "1       526,25 €   1.765,34 €  \n",
       "2     6.315,00 €  21.184,08 €  "
      ]
     },
     "execution_count": 28,
     "metadata": {},
     "output_type": "execute_result"
    }
   ],
   "source": [
    "df.columns = df.iloc[0]\n",
    "df = df[1:]\n",
    "df"
   ]
  },
  {
   "cell_type": "code",
   "execution_count": 30,
   "metadata": {},
   "outputs": [],
   "source": [
    "new_data = {\n",
    "    # Brutto\n",
    "    \"Brutto Monat\": df.loc[df[\"Ergebnis\"] == \"Monat\", \"Brutto:\"].values,\n",
    "    \"Brutto Jahr\": df.loc[df[\"Ergebnis\"] == \"Jahr\", \"Brutto:\"].values,\n",
    "    \n",
    "    # Geldwerter Vorteil\n",
    "    \"Geldwerter Vorteil Monat\": df.loc[df[\"Ergebnis\"] == \"Monat\", \"Geldwerter Vorteil:\"].values,\n",
    "    \"Geldwerter Vorteil Jahr\": df.loc[df[\"Ergebnis\"] == \"Jahr\", \"Geldwerter Vorteil:\"].values,\n",
    "    \n",
    "    # Solidaritätszuschlag\n",
    "    \"Solidaritätszuschlag Monat\": df.loc[df[\"Ergebnis\"] == \"Monat\", \"Solidaritäts- zuschlag:\"].values,\n",
    "    \"Solidaritätszuschlag Jahr\": df.loc[df[\"Ergebnis\"] == \"Jahr\", \"Solidaritäts- zuschlag:\"].values,\n",
    "    \n",
    "    # Kirchensteuer\n",
    "    \"Kirchensteuer Monat\": df.loc[df[\"Ergebnis\"] == \"Monat\", \"Kirchensteuer:\"].values,\n",
    "    \"Kirchensteuer Jahr\": df.loc[df[\"Ergebnis\"] == \"Jahr\", \"Kirchensteuer:\"].values,\n",
    "    \n",
    "    # Lohnsteuer\n",
    "    \"Lohnsteuer Monat\": df.loc[df[\"Ergebnis\"] == \"Monat\", \"Lohnsteuer:\"].values,\n",
    "    \"Lohnsteuer Jahr\": df.loc[df[\"Ergebnis\"] == \"Jahr\", \"Lohnsteuer:\"].values,\n",
    "    \n",
    "    # Steuern\n",
    "    \"Steuern Monat\": df.loc[df[\"Ergebnis\"] == \"Monat\", \"Steuern:\"].values,\n",
    "    \"Steuern Jahr\": df.loc[df[\"Ergebnis\"] == \"Jahr\", \"Steuern:\"].values,\n",
    "    \n",
    "    # Rentenversicherung\n",
    "    \"Rentenversicherung Monat\": df.loc[df[\"Ergebnis\"] == \"Monat\", \"Renten- versicherung:\"].values,\n",
    "    \"Rentenversicherung Jahr\": df.loc[df[\"Ergebnis\"] == \"Jahr\", \"Renten- versicherung:\"].values,\n",
    "    \n",
    "    # Arbeitslosenversicherung\n",
    "    \"Arbeitslosenversicherung Monat\": df.loc[df[\"Ergebnis\"] == \"Monat\", \"Arbeitslosen- versicherung:\"].values,\n",
    "    \"Arbeitslosenversicherung Jahr\": df.loc[df[\"Ergebnis\"] == \"Jahr\", \"Arbeitslosen- versicherung:\"].values,\n",
    "    \n",
    "    # Krankenversicherung\n",
    "    \"Krankenversicherung Monat\": df.loc[df[\"Ergebnis\"] == \"Monat\", \"Kranken- versicherung:\"].values,\n",
    "    \"Krankenversicherung Jahr\": df.loc[df[\"Ergebnis\"] == \"Jahr\", \"Kranken- versicherung:\"].values,\n",
    "    \n",
    "    # Pflegeversicherung\n",
    "    \"Pflegeversicherung Monat\": df.loc[df[\"Ergebnis\"] == \"Monat\", \"Pflege- versicherung:\"].values,\n",
    "    \"Pflegeversicherung Jahr\": df.loc[df[\"Ergebnis\"] == \"Jahr\", \"Pflege- versicherung:\"].values,\n",
    "    \n",
    "    # Sozialabgaben\n",
    "    \"Sozialabgaben Monat\": df.loc[df[\"Ergebnis\"] == \"Monat\", \"Sozialabgaben:\"].values,\n",
    "    \"Sozialabgaben Jahr\": df.loc[df[\"Ergebnis\"] == \"Jahr\", \"Sozialabgaben:\"].values,\n",
    "    \n",
    "    # Netto\n",
    "    \"Netto Monat\": df.loc[df[\"Ergebnis\"] == \"Monat\", \"Netto:\"].values,\n",
    "    \"Netto Jahr\": df.loc[df[\"Ergebnis\"] == \"Jahr\", \"Netto:\"].values\n",
    "}\n"
   ]
  },
  {
   "cell_type": "code",
   "execution_count": 32,
   "metadata": {},
   "outputs": [
    {
     "data": {
      "text/plain": [
       "{'Brutto Monat': array(['2.500,00 €'], dtype=object),\n",
       " 'Brutto Jahr': array(['30.000,00 €'], dtype=object),\n",
       " 'Geldwerter Vorteil Monat': array(['0,00 €'], dtype=object),\n",
       " 'Geldwerter Vorteil Jahr': array(['0,00 €'], dtype=object),\n",
       " 'Solidaritätszuschlag Monat': array(['0,00 €'], dtype=object),\n",
       " 'Solidaritätszuschlag Jahr': array(['0,00 €'], dtype=object),\n",
       " 'Kirchensteuer Monat': array(['0,00 €'], dtype=object),\n",
       " 'Kirchensteuer Jahr': array(['0,00 €'], dtype=object),\n",
       " 'Lohnsteuer Monat': array(['208,41 €'], dtype=object),\n",
       " 'Lohnsteuer Jahr': array(['2.500,92 €'], dtype=object),\n",
       " 'Steuern Monat': array(['208,41 €'], dtype=object),\n",
       " 'Steuern Jahr': array(['2.500,92 €'], dtype=object),\n",
       " 'Rentenversicherung Monat': array(['232,50 €'], dtype=object),\n",
       " 'Rentenversicherung Jahr': array(['2.790,00 €'], dtype=object),\n",
       " 'Arbeitslosenversicherung Monat': array(['32,50 €'], dtype=object),\n",
       " 'Arbeitslosenversicherung Jahr': array(['390,00 €'], dtype=object),\n",
       " 'Krankenversicherung Monat': array(['203,75 €'], dtype=object),\n",
       " 'Krankenversicherung Jahr': array(['2.445,00 €'], dtype=object),\n",
       " 'Pflegeversicherung Monat': array(['57,50 €'], dtype=object),\n",
       " 'Pflegeversicherung Jahr': array(['690,00 €'], dtype=object),\n",
       " 'Sozialabgaben Monat': array(['526,25 €'], dtype=object),\n",
       " 'Sozialabgaben Jahr': array(['6.315,00 €'], dtype=object),\n",
       " 'Netto Monat': array(['1.765,34 €'], dtype=object),\n",
       " 'Netto Jahr': array(['21.184,08 €'], dtype=object)}"
      ]
     },
     "execution_count": 32,
     "metadata": {},
     "output_type": "execute_result"
    }
   ],
   "source": [
    "new_data"
   ]
  },
  {
   "cell_type": "code",
   "execution_count": 35,
   "metadata": {},
   "outputs": [],
   "source": [
    "new_df = pd.DataFrame(new_data, index=[\"Values\"])"
   ]
  },
  {
   "cell_type": "code",
   "execution_count": 36,
   "metadata": {},
   "outputs": [
    {
     "data": {
      "text/html": [
       "<div>\n",
       "<style scoped>\n",
       "    .dataframe tbody tr th:only-of-type {\n",
       "        vertical-align: middle;\n",
       "    }\n",
       "\n",
       "    .dataframe tbody tr th {\n",
       "        vertical-align: top;\n",
       "    }\n",
       "\n",
       "    .dataframe thead th {\n",
       "        text-align: right;\n",
       "    }\n",
       "</style>\n",
       "<table border=\"1\" class=\"dataframe\">\n",
       "  <thead>\n",
       "    <tr style=\"text-align: right;\">\n",
       "      <th></th>\n",
       "      <th>Brutto Monat</th>\n",
       "      <th>Brutto Jahr</th>\n",
       "      <th>Geldwerter Vorteil Monat</th>\n",
       "      <th>Geldwerter Vorteil Jahr</th>\n",
       "      <th>Solidaritätszuschlag Monat</th>\n",
       "      <th>Solidaritätszuschlag Jahr</th>\n",
       "      <th>Kirchensteuer Monat</th>\n",
       "      <th>Kirchensteuer Jahr</th>\n",
       "      <th>Lohnsteuer Monat</th>\n",
       "      <th>Lohnsteuer Jahr</th>\n",
       "      <th>...</th>\n",
       "      <th>Arbeitslosenversicherung Monat</th>\n",
       "      <th>Arbeitslosenversicherung Jahr</th>\n",
       "      <th>Krankenversicherung Monat</th>\n",
       "      <th>Krankenversicherung Jahr</th>\n",
       "      <th>Pflegeversicherung Monat</th>\n",
       "      <th>Pflegeversicherung Jahr</th>\n",
       "      <th>Sozialabgaben Monat</th>\n",
       "      <th>Sozialabgaben Jahr</th>\n",
       "      <th>Netto Monat</th>\n",
       "      <th>Netto Jahr</th>\n",
       "    </tr>\n",
       "  </thead>\n",
       "  <tbody>\n",
       "    <tr>\n",
       "      <th>Values</th>\n",
       "      <td>2.500,00 €</td>\n",
       "      <td>30.000,00 €</td>\n",
       "      <td>0,00 €</td>\n",
       "      <td>0,00 €</td>\n",
       "      <td>0,00 €</td>\n",
       "      <td>0,00 €</td>\n",
       "      <td>0,00 €</td>\n",
       "      <td>0,00 €</td>\n",
       "      <td>208,41 €</td>\n",
       "      <td>2.500,92 €</td>\n",
       "      <td>...</td>\n",
       "      <td>32,50 €</td>\n",
       "      <td>390,00 €</td>\n",
       "      <td>203,75 €</td>\n",
       "      <td>2.445,00 €</td>\n",
       "      <td>57,50 €</td>\n",
       "      <td>690,00 €</td>\n",
       "      <td>526,25 €</td>\n",
       "      <td>6.315,00 €</td>\n",
       "      <td>1.765,34 €</td>\n",
       "      <td>21.184,08 €</td>\n",
       "    </tr>\n",
       "  </tbody>\n",
       "</table>\n",
       "<p>1 rows × 24 columns</p>\n",
       "</div>"
      ],
      "text/plain": [
       "       Brutto Monat  Brutto Jahr Geldwerter Vorteil Monat  \\\n",
       "Values   2.500,00 €  30.000,00 €                   0,00 €   \n",
       "\n",
       "       Geldwerter Vorteil Jahr Solidaritätszuschlag Monat  \\\n",
       "Values                  0,00 €                     0,00 €   \n",
       "\n",
       "       Solidaritätszuschlag Jahr Kirchensteuer Monat Kirchensteuer Jahr  \\\n",
       "Values                    0,00 €              0,00 €             0,00 €   \n",
       "\n",
       "       Lohnsteuer Monat Lohnsteuer Jahr  ... Arbeitslosenversicherung Monat  \\\n",
       "Values         208,41 €      2.500,92 €  ...                        32,50 €   \n",
       "\n",
       "       Arbeitslosenversicherung Jahr Krankenversicherung Monat  \\\n",
       "Values                      390,00 €                  203,75 €   \n",
       "\n",
       "       Krankenversicherung Jahr Pflegeversicherung Monat  \\\n",
       "Values               2.445,00 €                  57,50 €   \n",
       "\n",
       "       Pflegeversicherung Jahr Sozialabgaben Monat Sozialabgaben Jahr  \\\n",
       "Values                690,00 €            526,25 €         6.315,00 €   \n",
       "\n",
       "       Netto Monat   Netto Jahr  \n",
       "Values  1.765,34 €  21.184,08 €  \n",
       "\n",
       "[1 rows x 24 columns]"
      ]
     },
     "execution_count": 36,
     "metadata": {},
     "output_type": "execute_result"
    }
   ],
   "source": [
    "new_df"
   ]
  },
  {
   "cell_type": "code",
   "execution_count": 43,
   "metadata": {},
   "outputs": [
    {
     "name": "stderr",
     "output_type": "stream",
     "text": [
      "C:\\Users\\oeztano\\AppData\\Local\\Temp\\ipykernel_15352\\3308931940.py:1: FutureWarning: Series.__getitem__ treating keys as positions is deprecated. In a future version, integer keys will always be treated as labels (consistent with DataFrame behavior). To access a value by position, use `ser.iloc[pos]`\n",
      "  type(new_df.iloc[0][0])\n"
     ]
    },
    {
     "data": {
      "text/plain": [
       "str"
      ]
     },
     "execution_count": 43,
     "metadata": {},
     "output_type": "execute_result"
    }
   ],
   "source": [
    "type(new_df.iloc[0][0])"
   ]
  },
  {
   "cell_type": "code",
   "execution_count": 44,
   "metadata": {},
   "outputs": [],
   "source": [
    "import pandas as pd\n",
    "\n",
    "# Assuming `new_df` is your DataFrame and it contains currency values as strings\n",
    "for column in new_df.columns:\n",
    "    # Remove currency symbol (€) and thousands separator (.), and replace comma with dot for decimal\n",
    "    new_df[column] = new_df[column].str.replace('€', '').str.replace('.', '').str.replace(',', '.').astype(float)\n"
   ]
  },
  {
   "cell_type": "code",
   "execution_count": 45,
   "metadata": {},
   "outputs": [
    {
     "data": {
      "text/html": [
       "<div>\n",
       "<style scoped>\n",
       "    .dataframe tbody tr th:only-of-type {\n",
       "        vertical-align: middle;\n",
       "    }\n",
       "\n",
       "    .dataframe tbody tr th {\n",
       "        vertical-align: top;\n",
       "    }\n",
       "\n",
       "    .dataframe thead th {\n",
       "        text-align: right;\n",
       "    }\n",
       "</style>\n",
       "<table border=\"1\" class=\"dataframe\">\n",
       "  <thead>\n",
       "    <tr style=\"text-align: right;\">\n",
       "      <th></th>\n",
       "      <th>Brutto Monat</th>\n",
       "      <th>Brutto Jahr</th>\n",
       "      <th>Geldwerter Vorteil Monat</th>\n",
       "      <th>Geldwerter Vorteil Jahr</th>\n",
       "      <th>Solidaritätszuschlag Monat</th>\n",
       "      <th>Solidaritätszuschlag Jahr</th>\n",
       "      <th>Kirchensteuer Monat</th>\n",
       "      <th>Kirchensteuer Jahr</th>\n",
       "      <th>Lohnsteuer Monat</th>\n",
       "      <th>Lohnsteuer Jahr</th>\n",
       "      <th>...</th>\n",
       "      <th>Arbeitslosenversicherung Monat</th>\n",
       "      <th>Arbeitslosenversicherung Jahr</th>\n",
       "      <th>Krankenversicherung Monat</th>\n",
       "      <th>Krankenversicherung Jahr</th>\n",
       "      <th>Pflegeversicherung Monat</th>\n",
       "      <th>Pflegeversicherung Jahr</th>\n",
       "      <th>Sozialabgaben Monat</th>\n",
       "      <th>Sozialabgaben Jahr</th>\n",
       "      <th>Netto Monat</th>\n",
       "      <th>Netto Jahr</th>\n",
       "    </tr>\n",
       "  </thead>\n",
       "  <tbody>\n",
       "    <tr>\n",
       "      <th>Values</th>\n",
       "      <td>2500.0</td>\n",
       "      <td>30000.0</td>\n",
       "      <td>0.0</td>\n",
       "      <td>0.0</td>\n",
       "      <td>0.0</td>\n",
       "      <td>0.0</td>\n",
       "      <td>0.0</td>\n",
       "      <td>0.0</td>\n",
       "      <td>208.41</td>\n",
       "      <td>2500.92</td>\n",
       "      <td>...</td>\n",
       "      <td>32.5</td>\n",
       "      <td>390.0</td>\n",
       "      <td>203.75</td>\n",
       "      <td>2445.0</td>\n",
       "      <td>57.5</td>\n",
       "      <td>690.0</td>\n",
       "      <td>526.25</td>\n",
       "      <td>6315.0</td>\n",
       "      <td>1765.34</td>\n",
       "      <td>21184.08</td>\n",
       "    </tr>\n",
       "  </tbody>\n",
       "</table>\n",
       "<p>1 rows × 24 columns</p>\n",
       "</div>"
      ],
      "text/plain": [
       "        Brutto Monat  Brutto Jahr  Geldwerter Vorteil Monat  \\\n",
       "Values        2500.0      30000.0                       0.0   \n",
       "\n",
       "        Geldwerter Vorteil Jahr  Solidaritätszuschlag Monat  \\\n",
       "Values                      0.0                         0.0   \n",
       "\n",
       "        Solidaritätszuschlag Jahr  Kirchensteuer Monat  Kirchensteuer Jahr  \\\n",
       "Values                        0.0                  0.0                 0.0   \n",
       "\n",
       "        Lohnsteuer Monat  Lohnsteuer Jahr  ...  \\\n",
       "Values            208.41          2500.92  ...   \n",
       "\n",
       "        Arbeitslosenversicherung Monat  Arbeitslosenversicherung Jahr  \\\n",
       "Values                            32.5                          390.0   \n",
       "\n",
       "        Krankenversicherung Monat  Krankenversicherung Jahr  \\\n",
       "Values                     203.75                    2445.0   \n",
       "\n",
       "        Pflegeversicherung Monat  Pflegeversicherung Jahr  \\\n",
       "Values                      57.5                    690.0   \n",
       "\n",
       "        Sozialabgaben Monat  Sozialabgaben Jahr  Netto Monat  Netto Jahr  \n",
       "Values               526.25              6315.0      1765.34    21184.08  \n",
       "\n",
       "[1 rows x 24 columns]"
      ]
     },
     "execution_count": 45,
     "metadata": {},
     "output_type": "execute_result"
    }
   ],
   "source": [
    "new_df"
   ]
  },
  {
   "cell_type": "code",
   "execution_count": 46,
   "metadata": {},
   "outputs": [
    {
     "name": "stderr",
     "output_type": "stream",
     "text": [
      "C:\\Users\\oeztano\\AppData\\Local\\Temp\\ipykernel_15352\\3308931940.py:1: FutureWarning: Series.__getitem__ treating keys as positions is deprecated. In a future version, integer keys will always be treated as labels (consistent with DataFrame behavior). To access a value by position, use `ser.iloc[pos]`\n",
      "  type(new_df.iloc[0][0])\n"
     ]
    },
    {
     "data": {
      "text/plain": [
       "numpy.float64"
      ]
     },
     "execution_count": 46,
     "metadata": {},
     "output_type": "execute_result"
    }
   ],
   "source": [
    "type(new_df.iloc[0][0])"
   ]
  },
  {
   "cell_type": "code",
   "execution_count": 10,
   "metadata": {},
   "outputs": [],
   "source": [
    "import itertools\n",
    "# Define your lists of search terms\n",
    "brutto_lohn_jahr = [x for x in range(30000, 120000, 1000)]\n",
    "abrechnungsjahr = ['2023', '2024']\n",
    "steuerklasse = ['1', '3']\n",
    "\n",
    "# Use itertools.product to generate all combinations of search terms\n",
    "combinations = list(itertools.product(brutto_lohn_jahr, abrechnungsjahr, steuerklasse))"
   ]
  },
  {
   "cell_type": "code",
   "execution_count": 12,
   "metadata": {},
   "outputs": [
    {
     "data": {
      "text/plain": [
       "'1'"
      ]
     },
     "execution_count": 12,
     "metadata": {},
     "output_type": "execute_result"
    }
   ],
   "source": [
    "combinations[0][2]"
   ]
  },
  {
   "cell_type": "code",
   "execution_count": 51,
   "metadata": {},
   "outputs": [
    {
     "name": "stdout",
     "output_type": "stream",
     "text": [
      "0 (30000, '2023', '1')\n",
      "1 (30000, '2023', '3')\n",
      "2 (30000, '2024', '1')\n"
     ]
    }
   ],
   "source": [
    "for i, combo in enumerate(combinations[:3]):\n",
    "    print(i, combo)"
   ]
  },
  {
   "cell_type": "code",
   "execution_count": 8,
   "metadata": {},
   "outputs": [
    {
     "data": {
      "text/html": [
       "<div>\n",
       "<style scoped>\n",
       "    .dataframe tbody tr th:only-of-type {\n",
       "        vertical-align: middle;\n",
       "    }\n",
       "\n",
       "    .dataframe tbody tr th {\n",
       "        vertical-align: top;\n",
       "    }\n",
       "\n",
       "    .dataframe thead th {\n",
       "        text-align: right;\n",
       "    }\n",
       "</style>\n",
       "<table border=\"1\" class=\"dataframe\">\n",
       "  <thead>\n",
       "    <tr style=\"text-align: right;\">\n",
       "      <th></th>\n",
       "      <th>Unnamed: 0</th>\n",
       "      <th>Brutto Monat</th>\n",
       "      <th>Brutto Jahr</th>\n",
       "      <th>Geldwerter Vorteil Monat</th>\n",
       "      <th>Geldwerter Vorteil Jahr</th>\n",
       "      <th>Solidaritätszuschlag Monat</th>\n",
       "      <th>Solidaritätszuschlag Jahr</th>\n",
       "      <th>Kirchensteuer Monat</th>\n",
       "      <th>Kirchensteuer Jahr</th>\n",
       "      <th>Lohnsteuer Monat</th>\n",
       "      <th>...</th>\n",
       "      <th>Arbeitslosenversicherung Monat</th>\n",
       "      <th>Arbeitslosenversicherung Jahr</th>\n",
       "      <th>Krankenversicherung Monat</th>\n",
       "      <th>Krankenversicherung Jahr</th>\n",
       "      <th>Pflegeversicherung Monat</th>\n",
       "      <th>Pflegeversicherung Jahr</th>\n",
       "      <th>Sozialabgaben Monat</th>\n",
       "      <th>Sozialabgaben Jahr</th>\n",
       "      <th>Netto Monat</th>\n",
       "      <th>Netto Jahr</th>\n",
       "    </tr>\n",
       "  </thead>\n",
       "  <tbody>\n",
       "    <tr>\n",
       "      <th>0</th>\n",
       "      <td>Values</td>\n",
       "      <td>2500.00</td>\n",
       "      <td>30000.0</td>\n",
       "      <td>0.0</td>\n",
       "      <td>0.0</td>\n",
       "      <td>0.00</td>\n",
       "      <td>0.00</td>\n",
       "      <td>0.0</td>\n",
       "      <td>0.0</td>\n",
       "      <td>228.83</td>\n",
       "      <td>...</td>\n",
       "      <td>32.50</td>\n",
       "      <td>390.0</td>\n",
       "      <td>203.75</td>\n",
       "      <td>2445.00</td>\n",
       "      <td>46.88</td>\n",
       "      <td>562.50</td>\n",
       "      <td>515.63</td>\n",
       "      <td>6187.50</td>\n",
       "      <td>1755.55</td>\n",
       "      <td>21066.54</td>\n",
       "    </tr>\n",
       "    <tr>\n",
       "      <th>1</th>\n",
       "      <td>Values</td>\n",
       "      <td>2500.00</td>\n",
       "      <td>30000.0</td>\n",
       "      <td>0.0</td>\n",
       "      <td>0.0</td>\n",
       "      <td>0.00</td>\n",
       "      <td>0.00</td>\n",
       "      <td>0.0</td>\n",
       "      <td>0.0</td>\n",
       "      <td>13.66</td>\n",
       "      <td>...</td>\n",
       "      <td>32.50</td>\n",
       "      <td>390.0</td>\n",
       "      <td>203.75</td>\n",
       "      <td>2445.00</td>\n",
       "      <td>46.88</td>\n",
       "      <td>562.50</td>\n",
       "      <td>515.63</td>\n",
       "      <td>6187.50</td>\n",
       "      <td>1970.72</td>\n",
       "      <td>23648.58</td>\n",
       "    </tr>\n",
       "    <tr>\n",
       "      <th>2</th>\n",
       "      <td>Values</td>\n",
       "      <td>2500.00</td>\n",
       "      <td>30000.0</td>\n",
       "      <td>0.0</td>\n",
       "      <td>0.0</td>\n",
       "      <td>0.00</td>\n",
       "      <td>0.00</td>\n",
       "      <td>0.0</td>\n",
       "      <td>0.0</td>\n",
       "      <td>208.41</td>\n",
       "      <td>...</td>\n",
       "      <td>32.50</td>\n",
       "      <td>390.0</td>\n",
       "      <td>203.75</td>\n",
       "      <td>2445.00</td>\n",
       "      <td>57.50</td>\n",
       "      <td>690.00</td>\n",
       "      <td>526.25</td>\n",
       "      <td>6315.00</td>\n",
       "      <td>1765.34</td>\n",
       "      <td>21184.08</td>\n",
       "    </tr>\n",
       "    <tr>\n",
       "      <th>3</th>\n",
       "      <td>Values</td>\n",
       "      <td>2500.00</td>\n",
       "      <td>30000.0</td>\n",
       "      <td>0.0</td>\n",
       "      <td>0.0</td>\n",
       "      <td>0.00</td>\n",
       "      <td>0.00</td>\n",
       "      <td>0.0</td>\n",
       "      <td>0.0</td>\n",
       "      <td>0.00</td>\n",
       "      <td>...</td>\n",
       "      <td>32.50</td>\n",
       "      <td>390.0</td>\n",
       "      <td>203.75</td>\n",
       "      <td>2445.00</td>\n",
       "      <td>57.50</td>\n",
       "      <td>690.00</td>\n",
       "      <td>526.25</td>\n",
       "      <td>6315.00</td>\n",
       "      <td>1973.75</td>\n",
       "      <td>23685.00</td>\n",
       "    </tr>\n",
       "    <tr>\n",
       "      <th>4</th>\n",
       "      <td>Values</td>\n",
       "      <td>2583.33</td>\n",
       "      <td>31000.0</td>\n",
       "      <td>0.0</td>\n",
       "      <td>0.0</td>\n",
       "      <td>0.00</td>\n",
       "      <td>0.00</td>\n",
       "      <td>0.0</td>\n",
       "      <td>0.0</td>\n",
       "      <td>246.91</td>\n",
       "      <td>...</td>\n",
       "      <td>33.58</td>\n",
       "      <td>403.0</td>\n",
       "      <td>210.54</td>\n",
       "      <td>2526.50</td>\n",
       "      <td>48.44</td>\n",
       "      <td>581.25</td>\n",
       "      <td>532.81</td>\n",
       "      <td>6393.75</td>\n",
       "      <td>1803.61</td>\n",
       "      <td>21643.33</td>\n",
       "    </tr>\n",
       "    <tr>\n",
       "      <th>...</th>\n",
       "      <td>...</td>\n",
       "      <td>...</td>\n",
       "      <td>...</td>\n",
       "      <td>...</td>\n",
       "      <td>...</td>\n",
       "      <td>...</td>\n",
       "      <td>...</td>\n",
       "      <td>...</td>\n",
       "      <td>...</td>\n",
       "      <td>...</td>\n",
       "      <td>...</td>\n",
       "      <td>...</td>\n",
       "      <td>...</td>\n",
       "      <td>...</td>\n",
       "      <td>...</td>\n",
       "      <td>...</td>\n",
       "      <td>...</td>\n",
       "      <td>...</td>\n",
       "      <td>...</td>\n",
       "      <td>...</td>\n",
       "      <td>...</td>\n",
       "    </tr>\n",
       "    <tr>\n",
       "      <th>355</th>\n",
       "      <td>Values</td>\n",
       "      <td>9833.33</td>\n",
       "      <td>118000.0</td>\n",
       "      <td>0.0</td>\n",
       "      <td>0.0</td>\n",
       "      <td>0.00</td>\n",
       "      <td>0.00</td>\n",
       "      <td>0.0</td>\n",
       "      <td>0.0</td>\n",
       "      <td>1878.00</td>\n",
       "      <td>...</td>\n",
       "      <td>98.15</td>\n",
       "      <td>1177.8</td>\n",
       "      <td>421.76</td>\n",
       "      <td>5061.15</td>\n",
       "      <td>119.03</td>\n",
       "      <td>1428.30</td>\n",
       "      <td>1341.09</td>\n",
       "      <td>16093.05</td>\n",
       "      <td>6614.25</td>\n",
       "      <td>79370.95</td>\n",
       "    </tr>\n",
       "    <tr>\n",
       "      <th>356</th>\n",
       "      <td>Values</td>\n",
       "      <td>9916.67</td>\n",
       "      <td>119000.0</td>\n",
       "      <td>0.0</td>\n",
       "      <td>0.0</td>\n",
       "      <td>154.03</td>\n",
       "      <td>1848.36</td>\n",
       "      <td>0.0</td>\n",
       "      <td>0.0</td>\n",
       "      <td>2800.66</td>\n",
       "      <td>...</td>\n",
       "      <td>94.90</td>\n",
       "      <td>1138.8</td>\n",
       "      <td>406.48</td>\n",
       "      <td>4877.78</td>\n",
       "      <td>93.52</td>\n",
       "      <td>1122.19</td>\n",
       "      <td>1273.80</td>\n",
       "      <td>15285.56</td>\n",
       "      <td>5688.18</td>\n",
       "      <td>68258.16</td>\n",
       "    </tr>\n",
       "    <tr>\n",
       "      <th>357</th>\n",
       "      <td>Values</td>\n",
       "      <td>9916.67</td>\n",
       "      <td>119000.0</td>\n",
       "      <td>0.0</td>\n",
       "      <td>0.0</td>\n",
       "      <td>0.00</td>\n",
       "      <td>0.00</td>\n",
       "      <td>0.0</td>\n",
       "      <td>0.0</td>\n",
       "      <td>2007.83</td>\n",
       "      <td>...</td>\n",
       "      <td>94.90</td>\n",
       "      <td>1138.8</td>\n",
       "      <td>406.48</td>\n",
       "      <td>4877.78</td>\n",
       "      <td>93.52</td>\n",
       "      <td>1122.19</td>\n",
       "      <td>1273.80</td>\n",
       "      <td>15285.56</td>\n",
       "      <td>6635.04</td>\n",
       "      <td>79620.48</td>\n",
       "    </tr>\n",
       "    <tr>\n",
       "      <th>358</th>\n",
       "      <td>Values</td>\n",
       "      <td>9916.67</td>\n",
       "      <td>119000.0</td>\n",
       "      <td>0.0</td>\n",
       "      <td>0.0</td>\n",
       "      <td>144.07</td>\n",
       "      <td>1728.84</td>\n",
       "      <td>0.0</td>\n",
       "      <td>0.0</td>\n",
       "      <td>2721.58</td>\n",
       "      <td>...</td>\n",
       "      <td>98.15</td>\n",
       "      <td>1177.8</td>\n",
       "      <td>421.76</td>\n",
       "      <td>5061.15</td>\n",
       "      <td>119.03</td>\n",
       "      <td>1428.30</td>\n",
       "      <td>1341.09</td>\n",
       "      <td>16093.05</td>\n",
       "      <td>5709.93</td>\n",
       "      <td>68519.15</td>\n",
       "    </tr>\n",
       "    <tr>\n",
       "      <th>359</th>\n",
       "      <td>Values</td>\n",
       "      <td>9916.67</td>\n",
       "      <td>119000.0</td>\n",
       "      <td>0.0</td>\n",
       "      <td>0.0</td>\n",
       "      <td>0.00</td>\n",
       "      <td>0.00</td>\n",
       "      <td>0.0</td>\n",
       "      <td>0.0</td>\n",
       "      <td>1908.33</td>\n",
       "      <td>...</td>\n",
       "      <td>98.15</td>\n",
       "      <td>1177.8</td>\n",
       "      <td>421.76</td>\n",
       "      <td>5061.15</td>\n",
       "      <td>119.03</td>\n",
       "      <td>1428.30</td>\n",
       "      <td>1341.09</td>\n",
       "      <td>16093.05</td>\n",
       "      <td>6667.25</td>\n",
       "      <td>80006.99</td>\n",
       "    </tr>\n",
       "  </tbody>\n",
       "</table>\n",
       "<p>360 rows × 25 columns</p>\n",
       "</div>"
      ],
      "text/plain": [
       "    Unnamed: 0  Brutto Monat  Brutto Jahr  Geldwerter Vorteil Monat  \\\n",
       "0       Values       2500.00      30000.0                       0.0   \n",
       "1       Values       2500.00      30000.0                       0.0   \n",
       "2       Values       2500.00      30000.0                       0.0   \n",
       "3       Values       2500.00      30000.0                       0.0   \n",
       "4       Values       2583.33      31000.0                       0.0   \n",
       "..         ...           ...          ...                       ...   \n",
       "355     Values       9833.33     118000.0                       0.0   \n",
       "356     Values       9916.67     119000.0                       0.0   \n",
       "357     Values       9916.67     119000.0                       0.0   \n",
       "358     Values       9916.67     119000.0                       0.0   \n",
       "359     Values       9916.67     119000.0                       0.0   \n",
       "\n",
       "     Geldwerter Vorteil Jahr  Solidaritätszuschlag Monat  \\\n",
       "0                        0.0                        0.00   \n",
       "1                        0.0                        0.00   \n",
       "2                        0.0                        0.00   \n",
       "3                        0.0                        0.00   \n",
       "4                        0.0                        0.00   \n",
       "..                       ...                         ...   \n",
       "355                      0.0                        0.00   \n",
       "356                      0.0                      154.03   \n",
       "357                      0.0                        0.00   \n",
       "358                      0.0                      144.07   \n",
       "359                      0.0                        0.00   \n",
       "\n",
       "     Solidaritätszuschlag Jahr  Kirchensteuer Monat  Kirchensteuer Jahr  \\\n",
       "0                         0.00                  0.0                 0.0   \n",
       "1                         0.00                  0.0                 0.0   \n",
       "2                         0.00                  0.0                 0.0   \n",
       "3                         0.00                  0.0                 0.0   \n",
       "4                         0.00                  0.0                 0.0   \n",
       "..                         ...                  ...                 ...   \n",
       "355                       0.00                  0.0                 0.0   \n",
       "356                    1848.36                  0.0                 0.0   \n",
       "357                       0.00                  0.0                 0.0   \n",
       "358                    1728.84                  0.0                 0.0   \n",
       "359                       0.00                  0.0                 0.0   \n",
       "\n",
       "     Lohnsteuer Monat  ...  Arbeitslosenversicherung Monat  \\\n",
       "0              228.83  ...                           32.50   \n",
       "1               13.66  ...                           32.50   \n",
       "2              208.41  ...                           32.50   \n",
       "3                0.00  ...                           32.50   \n",
       "4              246.91  ...                           33.58   \n",
       "..                ...  ...                             ...   \n",
       "355           1878.00  ...                           98.15   \n",
       "356           2800.66  ...                           94.90   \n",
       "357           2007.83  ...                           94.90   \n",
       "358           2721.58  ...                           98.15   \n",
       "359           1908.33  ...                           98.15   \n",
       "\n",
       "     Arbeitslosenversicherung Jahr  Krankenversicherung Monat  \\\n",
       "0                            390.0                     203.75   \n",
       "1                            390.0                     203.75   \n",
       "2                            390.0                     203.75   \n",
       "3                            390.0                     203.75   \n",
       "4                            403.0                     210.54   \n",
       "..                             ...                        ...   \n",
       "355                         1177.8                     421.76   \n",
       "356                         1138.8                     406.48   \n",
       "357                         1138.8                     406.48   \n",
       "358                         1177.8                     421.76   \n",
       "359                         1177.8                     421.76   \n",
       "\n",
       "     Krankenversicherung Jahr  Pflegeversicherung Monat  \\\n",
       "0                     2445.00                     46.88   \n",
       "1                     2445.00                     46.88   \n",
       "2                     2445.00                     57.50   \n",
       "3                     2445.00                     57.50   \n",
       "4                     2526.50                     48.44   \n",
       "..                        ...                       ...   \n",
       "355                   5061.15                    119.03   \n",
       "356                   4877.78                     93.52   \n",
       "357                   4877.78                     93.52   \n",
       "358                   5061.15                    119.03   \n",
       "359                   5061.15                    119.03   \n",
       "\n",
       "     Pflegeversicherung Jahr  Sozialabgaben Monat  Sozialabgaben Jahr  \\\n",
       "0                     562.50               515.63             6187.50   \n",
       "1                     562.50               515.63             6187.50   \n",
       "2                     690.00               526.25             6315.00   \n",
       "3                     690.00               526.25             6315.00   \n",
       "4                     581.25               532.81             6393.75   \n",
       "..                       ...                  ...                 ...   \n",
       "355                  1428.30              1341.09            16093.05   \n",
       "356                  1122.19              1273.80            15285.56   \n",
       "357                  1122.19              1273.80            15285.56   \n",
       "358                  1428.30              1341.09            16093.05   \n",
       "359                  1428.30              1341.09            16093.05   \n",
       "\n",
       "     Netto Monat  Netto Jahr  \n",
       "0        1755.55    21066.54  \n",
       "1        1970.72    23648.58  \n",
       "2        1765.34    21184.08  \n",
       "3        1973.75    23685.00  \n",
       "4        1803.61    21643.33  \n",
       "..           ...         ...  \n",
       "355      6614.25    79370.95  \n",
       "356      5688.18    68258.16  \n",
       "357      6635.04    79620.48  \n",
       "358      5709.93    68519.15  \n",
       "359      6667.25    80006.99  \n",
       "\n",
       "[360 rows x 25 columns]"
      ]
     },
     "execution_count": 8,
     "metadata": {},
     "output_type": "execute_result"
    }
   ],
   "source": [
    "df = pd.read_csv(\"results.csv\")\n",
    "df"
   ]
  },
  {
   "cell_type": "code",
   "execution_count": 24,
   "metadata": {},
   "outputs": [
    {
     "data": {
      "application/vnd.plotly.v1+json": {
       "config": {
        "plotlyServerURL": "https://plot.ly"
       },
       "data": [
        {
         "hovertemplate": "Brutto Jahr=%{x}<br>Netto Jahr=%{y}<br>Steuerklasse=%{marker.color}<extra></extra>",
         "legendgroup": "",
         "marker": {
          "color": [
           1,
           3,
           1,
           3,
           1,
           3,
           1,
           3,
           1,
           3,
           1,
           3,
           1,
           3,
           1,
           3,
           1,
           3,
           1,
           3,
           1,
           3,
           1,
           3,
           1,
           3,
           1,
           3,
           1,
           3,
           1,
           3,
           1,
           3,
           1,
           3,
           1,
           3,
           1,
           3,
           1,
           3,
           1,
           3,
           1,
           3,
           1,
           3,
           1,
           3,
           1,
           3,
           1,
           3,
           1,
           3,
           1,
           3,
           1,
           3,
           1,
           3,
           1,
           3,
           1,
           3,
           1,
           3,
           1,
           3,
           1,
           3,
           1,
           3,
           1,
           3,
           1,
           3,
           1,
           3,
           1,
           3,
           1,
           3,
           1,
           3,
           1,
           3,
           1,
           3,
           1,
           3,
           1,
           3,
           1,
           3,
           1,
           3,
           1,
           3,
           1,
           3,
           1,
           3,
           1,
           3,
           1,
           3,
           1,
           3,
           1,
           3,
           1,
           3,
           1,
           3,
           1,
           3,
           1,
           3,
           1,
           3,
           1,
           3,
           1,
           3,
           1,
           3,
           1,
           3,
           1,
           3,
           1,
           3,
           1,
           3,
           1,
           3,
           1,
           3,
           1,
           3,
           1,
           3,
           1,
           3,
           1,
           3,
           1,
           3,
           1,
           3,
           1,
           3,
           1,
           3,
           1,
           3,
           1,
           3,
           1,
           3,
           1,
           3,
           1,
           3,
           1,
           3,
           1,
           3,
           1,
           3,
           1,
           3,
           1,
           3,
           1,
           3,
           1,
           3,
           1,
           3,
           1,
           3,
           1,
           3,
           1,
           3,
           1,
           3,
           1,
           3,
           1,
           3,
           1,
           3,
           1,
           3,
           1,
           3,
           1,
           3,
           1,
           3,
           1,
           3,
           1,
           3,
           1,
           3,
           1,
           3,
           1,
           3,
           1,
           3,
           1,
           3,
           1,
           3,
           1,
           3,
           1,
           3,
           1,
           3,
           1,
           3,
           1,
           3,
           1,
           3,
           1,
           3,
           1,
           3,
           1,
           3,
           1,
           3,
           1,
           3,
           1,
           3,
           1,
           3,
           1,
           3,
           1,
           3,
           1,
           3,
           1,
           3,
           1,
           3,
           1,
           3,
           1,
           3,
           1,
           3,
           1,
           3,
           1,
           3,
           1,
           3,
           1,
           3,
           1,
           3,
           1,
           3,
           1,
           3,
           1,
           3,
           1,
           3,
           1,
           3,
           1,
           3,
           1,
           3,
           1,
           3,
           1,
           3,
           1,
           3,
           1,
           3,
           1,
           3,
           1,
           3,
           1,
           3,
           1,
           3,
           1,
           3,
           1,
           3,
           1,
           3,
           1,
           3,
           1,
           3,
           1,
           3,
           1,
           3,
           1,
           3,
           1,
           3,
           1,
           3,
           1,
           3,
           1,
           3,
           1,
           3,
           1,
           3,
           1,
           3,
           1,
           3,
           1,
           3,
           1,
           3,
           1,
           3,
           1,
           3,
           1,
           3,
           1,
           3,
           1,
           3,
           1,
           3,
           1,
           3,
           1,
           3,
           1,
           3,
           1,
           3,
           1,
           3
          ],
          "coloraxis": "coloraxis",
          "symbol": "circle"
         },
         "mode": "markers",
         "name": "",
         "orientation": "v",
         "showlegend": false,
         "type": "scatter",
         "x": [
          30000,
          30000,
          30000,
          30000,
          31000,
          31000,
          31000,
          31000,
          32000,
          32000,
          32000,
          32000,
          33000,
          33000,
          33000,
          33000,
          34000,
          34000,
          34000,
          34000,
          35000,
          35000,
          35000,
          35000,
          36000,
          36000,
          36000,
          36000,
          37000,
          37000,
          37000,
          37000,
          38000,
          38000,
          38000,
          38000,
          39000,
          39000,
          39000,
          39000,
          40000,
          40000,
          40000,
          40000,
          41000,
          41000,
          41000,
          41000,
          42000,
          42000,
          42000,
          42000,
          43000,
          43000,
          43000,
          43000,
          44000,
          44000,
          44000,
          44000,
          45000,
          45000,
          45000,
          45000,
          46000,
          46000,
          46000,
          46000,
          47000,
          47000,
          47000,
          47000,
          48000,
          48000,
          48000,
          48000,
          49000,
          49000,
          49000,
          49000,
          50000,
          50000,
          50000,
          50000,
          51000,
          51000,
          51000,
          51000,
          52000,
          52000,
          52000,
          52000,
          53000,
          53000,
          53000,
          53000,
          54000,
          54000,
          54000,
          54000,
          55000,
          55000,
          55000,
          55000,
          56000,
          56000,
          56000,
          56000,
          57000,
          57000,
          57000,
          57000,
          58000,
          58000,
          58000,
          58000,
          59000,
          59000,
          59000,
          59000,
          60000,
          60000,
          60000,
          60000,
          61000,
          61000,
          61000,
          61000,
          62000,
          62000,
          62000,
          62000,
          63000,
          63000,
          63000,
          63000,
          64000,
          64000,
          64000,
          64000,
          65000,
          65000,
          65000,
          65000,
          66000,
          66000,
          66000,
          66000,
          67000,
          67000,
          67000,
          67000,
          68000,
          68000,
          68000,
          68000,
          69000,
          69000,
          69000,
          69000,
          70000,
          70000,
          70000,
          70000,
          71000,
          71000,
          71000,
          71000,
          72000,
          72000,
          72000,
          72000,
          73000,
          73000,
          73000,
          73000,
          74000,
          74000,
          74000,
          74000,
          75000,
          75000,
          75000,
          75000,
          76000,
          76000,
          76000,
          76000,
          77000,
          77000,
          77000,
          77000,
          78000,
          78000,
          78000,
          78000,
          79000,
          79000,
          79000,
          79000,
          80000,
          80000,
          80000,
          80000,
          81000,
          81000,
          81000,
          81000,
          82000,
          82000,
          82000,
          82000,
          83000,
          83000,
          83000,
          83000,
          84000,
          84000,
          84000,
          84000,
          85000,
          85000,
          85000,
          85000,
          86000,
          86000,
          86000,
          86000,
          87000,
          87000,
          87000,
          87000,
          88000,
          88000,
          88000,
          88000,
          89000,
          89000,
          89000,
          89000,
          90000,
          90000,
          90000,
          90000,
          91000,
          91000,
          91000,
          91000,
          92000,
          92000,
          92000,
          92000,
          93000,
          93000,
          93000,
          93000,
          94000,
          94000,
          94000,
          94000,
          95000,
          95000,
          95000,
          95000,
          96000,
          96000,
          96000,
          96000,
          97000,
          97000,
          97000,
          97000,
          98000,
          98000,
          98000,
          98000,
          99000,
          99000,
          99000,
          99000,
          100000,
          100000,
          100000,
          100000,
          101000,
          101000,
          101000,
          101000,
          102000,
          102000,
          102000,
          102000,
          103000,
          103000,
          103000,
          103000,
          104000,
          104000,
          104000,
          104000,
          105000,
          105000,
          105000,
          105000,
          106000,
          106000,
          106000,
          106000,
          107000,
          107000,
          107000,
          107000,
          108000,
          108000,
          108000,
          108000,
          109000,
          109000,
          109000,
          109000,
          110000,
          110000,
          110000,
          110000,
          111000,
          111000,
          111000,
          111000,
          112000,
          112000,
          112000,
          112000,
          113000,
          113000,
          113000,
          113000,
          114000,
          114000,
          114000,
          114000,
          115000,
          115000,
          115000,
          115000,
          116000,
          116000,
          116000,
          116000,
          117000,
          117000,
          117000,
          117000,
          118000,
          118000,
          118000,
          118000,
          119000,
          119000,
          119000,
          119000
         ],
         "xaxis": "x",
         "y": [
          21066.54,
          23648.58,
          21184.08,
          23685,
          21643.33,
          24304.33,
          21762.5,
          24404.54,
          22218.08,
          24966.08,
          22338.04,
          25076.08,
          22788.75,
          25619.79,
          22911.54,
          25739.58,
          23357.5,
          26269.54,
          23482.04,
          26397.08,
          23924.33,
          26911.25,
          24051.58,
          27050.5,
          24488.04,
          27547.08,
          24617.04,
          27696,
          25049.83,
          28174.75,
          25181.54,
          28335.5,
          25608.5,
          28798.58,
          25743.04,
          28969,
          26164.29,
          29414.25,
          26302.5,
          29598.54,
          26718.04,
          30024.04,
          26859.08,
          30220.04,
          27269.75,
          30627.83,
          27413.5,
          30835.54,
          27817.5,
          31227.54,
          27966,
          31447.08,
          28364.29,
          31825.33,
          28515.5,
          32050.58,
          28908.08,
          32421.08,
          29063.08,
          32648.08,
          29448.75,
          33016.83,
          29608.5,
          33243.54,
          29987.5,
          33610.54,
          30151.04,
          33839,
          30523.25,
          34202.33,
          30691.54,
          34432.54,
          31057.08,
          34794,
          31229.04,
          35024.04,
          31587.79,
          35385.79,
          31765.58,
          35615.54,
          32116.58,
          35973.5,
          32298.04,
          36205,
          32642.25,
          36561.33,
          32829.54,
          36792.54,
          33166,
          37149.04,
          33358.04,
          37380.08,
          33686.75,
          37732.79,
          33884.5,
          37967.5,
          34205.58,
          38316.54,
          34408.08,
          38551.08,
          34721.29,
          38900.29,
          34930.58,
          39134.54,
          35234,
          39482,
          35449,
          39718,
          35745.75,
          40061.79,
          35966.58,
          40299.54,
          36253.54,
          40641.58,
          36481.04,
          40879.04,
          36759.29,
          41219.33,
          36993.58,
          41458.54,
          37272.04,
          41806.12,
          37503,
          42036,
          37838.08,
          42454.12,
          38010.5,
          42613.58,
          38400.04,
          43102.12,
          38516.08,
          43189,
          38959.12,
          43748.08,
          39079.59,
          43834.59,
          39516.04,
          44392.12,
          39648.63,
          44484.63,
          40068.04,
          45034.12,
          40213.59,
          45132.63,
          40618.12,
          45676.12,
          40775.55,
          45780.63,
          41165.08,
          46316.08,
          41334.63,
          46426.59,
          41708.08,
          46954.12,
          41890.59,
          47070.63,
          42248.08,
          47590.12,
          42443.55,
          47712.63,
          42786.04,
          48224.08,
          42994.59,
          48354.63,
          43319.08,
          48858.04,
          43540.59,
          48994.59,
          43850.08,
          49490.08,
          44085.63,
          49632.63,
          44378.08,
          50120.08,
          44626.59,
          50268.63,
          44902.12,
          50748.04,
          45164.55,
          50904.63,
          45423.04,
          51374.08,
          45699.63,
          51538.59,
          45941.08,
          52000.12,
          46232.55,
          52170.63,
          46456.12,
          52624.12,
          46761.63,
          52802.55,
          46969.12,
          53246.08,
          47287.59,
          53430.63,
          47482.12,
          53866.12,
          47811.63,
          54058.59,
          47995.12,
          54486.04,
          48331.59,
          54684.63,
          48464.92,
          55102.12,
          48848.55,
          55310.55,
          48932.68,
          55718.08,
          49363.59,
          55934.55,
          49400.32,
          56332.12,
          49876.59,
          56556.63,
          49867.96,
          56946.04,
          50379.27,
          57176.55,
          50335.6,
          57556.12,
          50846.91,
          57794.55,
          50803.24,
          58166.08,
          51314.67,
          58412.55,
          51271,
          58772.08,
          51782.31,
          59028.63,
          51764.24,
          59410.52,
          52249.95,
          59642.55,
          52294.2,
          60090.48,
          52717.59,
          60256.59,
          52824.28,
          60770.44,
          53185.23,
          60868.59,
          53354.24,
          61446.44,
          53678.59,
          61508.95,
          53884.32,
          62122.44,
          54208.55,
          62192.99,
          54414.28,
          62794.48,
          54738.63,
          62877.03,
          54944.36,
          63466.52,
          55268.59,
          63559.03,
          55474.32,
          64134.48,
          55798.67,
          64238.99,
          56004.4,
          64802.44,
          56328.63,
          64914.99,
          56534.36,
          65468.48,
          56858.71,
          65593.03,
          57064.44,
          66130.44,
          57388.67,
          66266.99,
          57594.4,
          66792.52,
          57918.75,
          66939.03,
          58124.48,
          67452.44,
          58448.71,
          67609.03,
          58654.44,
          68110.44,
          58978.79,
          68279.03,
          59184.52,
          68766.52,
          59508.75,
          68944.95,
          59714.48,
          69420.44,
          60038.83,
          69610.99,
          60244.56,
          70072.44,
          60568.79,
          70272.95,
          60774.52,
          70722.52,
          61098.87,
          70935.03,
          61304.6,
          71370.44,
          61628.83,
          71594.95,
          61834.56,
          72016.44,
          62158.91,
          72252.95,
          62364.64,
          72660.52,
          62688.87,
          72909.03,
          62894.6,
          73302.44,
          63218.95,
          73562.95,
          63424.68,
          73942.44,
          63748.91,
          74214.95,
          63954.64,
          74582.44,
          64278.99,
          74866.95,
          64484.72,
          75218.48,
          64808.95,
          75514.99,
          65014.68,
          75852.48,
          65339.03,
          76163.03,
          65544.76,
          76484.44,
          65868.99,
          76806.99,
          66074.72,
          77116.52,
          66399.07,
          77450.95,
          66604.8,
          77744.52,
          66929.03,
          78092.99,
          67144.36,
          78372.52,
          67459.11,
          78732.99,
          67701.2,
          78996.44,
          67989.07,
          79370.95,
          68258.16,
          79620.48,
          68519.15,
          80006.99
         ],
         "yaxis": "y"
        }
       ],
       "layout": {
        "coloraxis": {
         "colorbar": {
          "title": {
           "text": "Steuerklasse"
          }
         },
         "colorscale": [
          [
           0,
           "#0d0887"
          ],
          [
           0.1111111111111111,
           "#46039f"
          ],
          [
           0.2222222222222222,
           "#7201a8"
          ],
          [
           0.3333333333333333,
           "#9c179e"
          ],
          [
           0.4444444444444444,
           "#bd3786"
          ],
          [
           0.5555555555555556,
           "#d8576b"
          ],
          [
           0.6666666666666666,
           "#ed7953"
          ],
          [
           0.7777777777777778,
           "#fb9f3a"
          ],
          [
           0.8888888888888888,
           "#fdca26"
          ],
          [
           1,
           "#f0f921"
          ]
         ]
        },
        "legend": {
         "tracegroupgap": 0
        },
        "template": {
         "data": {
          "bar": [
           {
            "error_x": {
             "color": "#2a3f5f"
            },
            "error_y": {
             "color": "#2a3f5f"
            },
            "marker": {
             "line": {
              "color": "#E5ECF6",
              "width": 0.5
             },
             "pattern": {
              "fillmode": "overlay",
              "size": 10,
              "solidity": 0.2
             }
            },
            "type": "bar"
           }
          ],
          "barpolar": [
           {
            "marker": {
             "line": {
              "color": "#E5ECF6",
              "width": 0.5
             },
             "pattern": {
              "fillmode": "overlay",
              "size": 10,
              "solidity": 0.2
             }
            },
            "type": "barpolar"
           }
          ],
          "carpet": [
           {
            "aaxis": {
             "endlinecolor": "#2a3f5f",
             "gridcolor": "white",
             "linecolor": "white",
             "minorgridcolor": "white",
             "startlinecolor": "#2a3f5f"
            },
            "baxis": {
             "endlinecolor": "#2a3f5f",
             "gridcolor": "white",
             "linecolor": "white",
             "minorgridcolor": "white",
             "startlinecolor": "#2a3f5f"
            },
            "type": "carpet"
           }
          ],
          "choropleth": [
           {
            "colorbar": {
             "outlinewidth": 0,
             "ticks": ""
            },
            "type": "choropleth"
           }
          ],
          "contour": [
           {
            "colorbar": {
             "outlinewidth": 0,
             "ticks": ""
            },
            "colorscale": [
             [
              0,
              "#0d0887"
             ],
             [
              0.1111111111111111,
              "#46039f"
             ],
             [
              0.2222222222222222,
              "#7201a8"
             ],
             [
              0.3333333333333333,
              "#9c179e"
             ],
             [
              0.4444444444444444,
              "#bd3786"
             ],
             [
              0.5555555555555556,
              "#d8576b"
             ],
             [
              0.6666666666666666,
              "#ed7953"
             ],
             [
              0.7777777777777778,
              "#fb9f3a"
             ],
             [
              0.8888888888888888,
              "#fdca26"
             ],
             [
              1,
              "#f0f921"
             ]
            ],
            "type": "contour"
           }
          ],
          "contourcarpet": [
           {
            "colorbar": {
             "outlinewidth": 0,
             "ticks": ""
            },
            "type": "contourcarpet"
           }
          ],
          "heatmap": [
           {
            "colorbar": {
             "outlinewidth": 0,
             "ticks": ""
            },
            "colorscale": [
             [
              0,
              "#0d0887"
             ],
             [
              0.1111111111111111,
              "#46039f"
             ],
             [
              0.2222222222222222,
              "#7201a8"
             ],
             [
              0.3333333333333333,
              "#9c179e"
             ],
             [
              0.4444444444444444,
              "#bd3786"
             ],
             [
              0.5555555555555556,
              "#d8576b"
             ],
             [
              0.6666666666666666,
              "#ed7953"
             ],
             [
              0.7777777777777778,
              "#fb9f3a"
             ],
             [
              0.8888888888888888,
              "#fdca26"
             ],
             [
              1,
              "#f0f921"
             ]
            ],
            "type": "heatmap"
           }
          ],
          "heatmapgl": [
           {
            "colorbar": {
             "outlinewidth": 0,
             "ticks": ""
            },
            "colorscale": [
             [
              0,
              "#0d0887"
             ],
             [
              0.1111111111111111,
              "#46039f"
             ],
             [
              0.2222222222222222,
              "#7201a8"
             ],
             [
              0.3333333333333333,
              "#9c179e"
             ],
             [
              0.4444444444444444,
              "#bd3786"
             ],
             [
              0.5555555555555556,
              "#d8576b"
             ],
             [
              0.6666666666666666,
              "#ed7953"
             ],
             [
              0.7777777777777778,
              "#fb9f3a"
             ],
             [
              0.8888888888888888,
              "#fdca26"
             ],
             [
              1,
              "#f0f921"
             ]
            ],
            "type": "heatmapgl"
           }
          ],
          "histogram": [
           {
            "marker": {
             "pattern": {
              "fillmode": "overlay",
              "size": 10,
              "solidity": 0.2
             }
            },
            "type": "histogram"
           }
          ],
          "histogram2d": [
           {
            "colorbar": {
             "outlinewidth": 0,
             "ticks": ""
            },
            "colorscale": [
             [
              0,
              "#0d0887"
             ],
             [
              0.1111111111111111,
              "#46039f"
             ],
             [
              0.2222222222222222,
              "#7201a8"
             ],
             [
              0.3333333333333333,
              "#9c179e"
             ],
             [
              0.4444444444444444,
              "#bd3786"
             ],
             [
              0.5555555555555556,
              "#d8576b"
             ],
             [
              0.6666666666666666,
              "#ed7953"
             ],
             [
              0.7777777777777778,
              "#fb9f3a"
             ],
             [
              0.8888888888888888,
              "#fdca26"
             ],
             [
              1,
              "#f0f921"
             ]
            ],
            "type": "histogram2d"
           }
          ],
          "histogram2dcontour": [
           {
            "colorbar": {
             "outlinewidth": 0,
             "ticks": ""
            },
            "colorscale": [
             [
              0,
              "#0d0887"
             ],
             [
              0.1111111111111111,
              "#46039f"
             ],
             [
              0.2222222222222222,
              "#7201a8"
             ],
             [
              0.3333333333333333,
              "#9c179e"
             ],
             [
              0.4444444444444444,
              "#bd3786"
             ],
             [
              0.5555555555555556,
              "#d8576b"
             ],
             [
              0.6666666666666666,
              "#ed7953"
             ],
             [
              0.7777777777777778,
              "#fb9f3a"
             ],
             [
              0.8888888888888888,
              "#fdca26"
             ],
             [
              1,
              "#f0f921"
             ]
            ],
            "type": "histogram2dcontour"
           }
          ],
          "mesh3d": [
           {
            "colorbar": {
             "outlinewidth": 0,
             "ticks": ""
            },
            "type": "mesh3d"
           }
          ],
          "parcoords": [
           {
            "line": {
             "colorbar": {
              "outlinewidth": 0,
              "ticks": ""
             }
            },
            "type": "parcoords"
           }
          ],
          "pie": [
           {
            "automargin": true,
            "type": "pie"
           }
          ],
          "scatter": [
           {
            "fillpattern": {
             "fillmode": "overlay",
             "size": 10,
             "solidity": 0.2
            },
            "type": "scatter"
           }
          ],
          "scatter3d": [
           {
            "line": {
             "colorbar": {
              "outlinewidth": 0,
              "ticks": ""
             }
            },
            "marker": {
             "colorbar": {
              "outlinewidth": 0,
              "ticks": ""
             }
            },
            "type": "scatter3d"
           }
          ],
          "scattercarpet": [
           {
            "marker": {
             "colorbar": {
              "outlinewidth": 0,
              "ticks": ""
             }
            },
            "type": "scattercarpet"
           }
          ],
          "scattergeo": [
           {
            "marker": {
             "colorbar": {
              "outlinewidth": 0,
              "ticks": ""
             }
            },
            "type": "scattergeo"
           }
          ],
          "scattergl": [
           {
            "marker": {
             "colorbar": {
              "outlinewidth": 0,
              "ticks": ""
             }
            },
            "type": "scattergl"
           }
          ],
          "scattermapbox": [
           {
            "marker": {
             "colorbar": {
              "outlinewidth": 0,
              "ticks": ""
             }
            },
            "type": "scattermapbox"
           }
          ],
          "scatterpolar": [
           {
            "marker": {
             "colorbar": {
              "outlinewidth": 0,
              "ticks": ""
             }
            },
            "type": "scatterpolar"
           }
          ],
          "scatterpolargl": [
           {
            "marker": {
             "colorbar": {
              "outlinewidth": 0,
              "ticks": ""
             }
            },
            "type": "scatterpolargl"
           }
          ],
          "scatterternary": [
           {
            "marker": {
             "colorbar": {
              "outlinewidth": 0,
              "ticks": ""
             }
            },
            "type": "scatterternary"
           }
          ],
          "surface": [
           {
            "colorbar": {
             "outlinewidth": 0,
             "ticks": ""
            },
            "colorscale": [
             [
              0,
              "#0d0887"
             ],
             [
              0.1111111111111111,
              "#46039f"
             ],
             [
              0.2222222222222222,
              "#7201a8"
             ],
             [
              0.3333333333333333,
              "#9c179e"
             ],
             [
              0.4444444444444444,
              "#bd3786"
             ],
             [
              0.5555555555555556,
              "#d8576b"
             ],
             [
              0.6666666666666666,
              "#ed7953"
             ],
             [
              0.7777777777777778,
              "#fb9f3a"
             ],
             [
              0.8888888888888888,
              "#fdca26"
             ],
             [
              1,
              "#f0f921"
             ]
            ],
            "type": "surface"
           }
          ],
          "table": [
           {
            "cells": {
             "fill": {
              "color": "#EBF0F8"
             },
             "line": {
              "color": "white"
             }
            },
            "header": {
             "fill": {
              "color": "#C8D4E3"
             },
             "line": {
              "color": "white"
             }
            },
            "type": "table"
           }
          ]
         },
         "layout": {
          "annotationdefaults": {
           "arrowcolor": "#2a3f5f",
           "arrowhead": 0,
           "arrowwidth": 1
          },
          "autotypenumbers": "strict",
          "coloraxis": {
           "colorbar": {
            "outlinewidth": 0,
            "ticks": ""
           }
          },
          "colorscale": {
           "diverging": [
            [
             0,
             "#8e0152"
            ],
            [
             0.1,
             "#c51b7d"
            ],
            [
             0.2,
             "#de77ae"
            ],
            [
             0.3,
             "#f1b6da"
            ],
            [
             0.4,
             "#fde0ef"
            ],
            [
             0.5,
             "#f7f7f7"
            ],
            [
             0.6,
             "#e6f5d0"
            ],
            [
             0.7,
             "#b8e186"
            ],
            [
             0.8,
             "#7fbc41"
            ],
            [
             0.9,
             "#4d9221"
            ],
            [
             1,
             "#276419"
            ]
           ],
           "sequential": [
            [
             0,
             "#0d0887"
            ],
            [
             0.1111111111111111,
             "#46039f"
            ],
            [
             0.2222222222222222,
             "#7201a8"
            ],
            [
             0.3333333333333333,
             "#9c179e"
            ],
            [
             0.4444444444444444,
             "#bd3786"
            ],
            [
             0.5555555555555556,
             "#d8576b"
            ],
            [
             0.6666666666666666,
             "#ed7953"
            ],
            [
             0.7777777777777778,
             "#fb9f3a"
            ],
            [
             0.8888888888888888,
             "#fdca26"
            ],
            [
             1,
             "#f0f921"
            ]
           ],
           "sequentialminus": [
            [
             0,
             "#0d0887"
            ],
            [
             0.1111111111111111,
             "#46039f"
            ],
            [
             0.2222222222222222,
             "#7201a8"
            ],
            [
             0.3333333333333333,
             "#9c179e"
            ],
            [
             0.4444444444444444,
             "#bd3786"
            ],
            [
             0.5555555555555556,
             "#d8576b"
            ],
            [
             0.6666666666666666,
             "#ed7953"
            ],
            [
             0.7777777777777778,
             "#fb9f3a"
            ],
            [
             0.8888888888888888,
             "#fdca26"
            ],
            [
             1,
             "#f0f921"
            ]
           ]
          },
          "colorway": [
           "#636efa",
           "#EF553B",
           "#00cc96",
           "#ab63fa",
           "#FFA15A",
           "#19d3f3",
           "#FF6692",
           "#B6E880",
           "#FF97FF",
           "#FECB52"
          ],
          "font": {
           "color": "#2a3f5f"
          },
          "geo": {
           "bgcolor": "white",
           "lakecolor": "white",
           "landcolor": "#E5ECF6",
           "showlakes": true,
           "showland": true,
           "subunitcolor": "white"
          },
          "hoverlabel": {
           "align": "left"
          },
          "hovermode": "closest",
          "mapbox": {
           "style": "light"
          },
          "paper_bgcolor": "white",
          "plot_bgcolor": "#E5ECF6",
          "polar": {
           "angularaxis": {
            "gridcolor": "white",
            "linecolor": "white",
            "ticks": ""
           },
           "bgcolor": "#E5ECF6",
           "radialaxis": {
            "gridcolor": "white",
            "linecolor": "white",
            "ticks": ""
           }
          },
          "scene": {
           "xaxis": {
            "backgroundcolor": "#E5ECF6",
            "gridcolor": "white",
            "gridwidth": 2,
            "linecolor": "white",
            "showbackground": true,
            "ticks": "",
            "zerolinecolor": "white"
           },
           "yaxis": {
            "backgroundcolor": "#E5ECF6",
            "gridcolor": "white",
            "gridwidth": 2,
            "linecolor": "white",
            "showbackground": true,
            "ticks": "",
            "zerolinecolor": "white"
           },
           "zaxis": {
            "backgroundcolor": "#E5ECF6",
            "gridcolor": "white",
            "gridwidth": 2,
            "linecolor": "white",
            "showbackground": true,
            "ticks": "",
            "zerolinecolor": "white"
           }
          },
          "shapedefaults": {
           "line": {
            "color": "#2a3f5f"
           }
          },
          "ternary": {
           "aaxis": {
            "gridcolor": "white",
            "linecolor": "white",
            "ticks": ""
           },
           "baxis": {
            "gridcolor": "white",
            "linecolor": "white",
            "ticks": ""
           },
           "bgcolor": "#E5ECF6",
           "caxis": {
            "gridcolor": "white",
            "linecolor": "white",
            "ticks": ""
           }
          },
          "title": {
           "x": 0.05
          },
          "xaxis": {
           "automargin": true,
           "gridcolor": "white",
           "linecolor": "white",
           "ticks": "",
           "title": {
            "standoff": 15
           },
           "zerolinecolor": "white",
           "zerolinewidth": 2
          },
          "yaxis": {
           "automargin": true,
           "gridcolor": "white",
           "linecolor": "white",
           "ticks": "",
           "title": {
            "standoff": 15
           },
           "zerolinecolor": "white",
           "zerolinewidth": 2
          }
         }
        },
        "title": {
         "text": "Value Over Time"
        },
        "xaxis": {
         "anchor": "y",
         "domain": [
          0,
          1
         ],
         "range": [
          20000,
          120000
         ],
         "title": {
          "text": "Brutto Jahr"
         }
        },
        "yaxis": {
         "anchor": "x",
         "domain": [
          0,
          1
         ],
         "range": [
          20000,
          120000
         ],
         "scaleanchor": "x",
         "scaleratio": 1,
         "title": {
          "text": "Netto Jahr"
         }
        }
       }
      }
     },
     "metadata": {},
     "output_type": "display_data"
    }
   ],
   "source": [
    "import plotly.express as px\n",
    "import pandas as pd\n",
    "\n",
    "df = pd.read_csv(\"results.csv\")\n",
    "filtered_df = df[df['Steuerklasse'].isin(['1', '3'])]\n",
    "fig = px.scatter(df, x=df[\"Brutto Jahr\"], y=df[\"Netto Jahr\"], color=df[\"Steuerklasse\"], title='Value Over Time')\n",
    "fig.update_yaxes(scaleanchor='x', scaleratio=1)\n",
    "# max_range = max(filtered_df[\"Brutto Jahr\"].max(), filtered_df[\"Netto Jahr\"].max())\n",
    "fig.update_xaxes(range=[20000, 120000])\n",
    "fig.update_yaxes(range=[20000, 120000])\n",
    "fig.show()"
   ]
  },
  {
   "cell_type": "code",
   "execution_count": null,
   "metadata": {},
   "outputs": [],
   "source": []
  }
 ],
 "metadata": {
  "kernelspec": {
   "display_name": "Python 3",
   "language": "python",
   "name": "python3"
  },
  "language_info": {
   "codemirror_mode": {
    "name": "ipython",
    "version": 3
   },
   "file_extension": ".py",
   "mimetype": "text/x-python",
   "name": "python",
   "nbconvert_exporter": "python",
   "pygments_lexer": "ipython3",
   "version": "3.11.3"
  }
 },
 "nbformat": 4,
 "nbformat_minor": 2
}
